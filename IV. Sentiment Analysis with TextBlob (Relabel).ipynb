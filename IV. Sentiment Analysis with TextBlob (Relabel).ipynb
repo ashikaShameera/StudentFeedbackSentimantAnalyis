{
 "cells": [
  {
   "cell_type": "markdown",
   "id": "554e3743-e4b5-4bfc-a539-552ff1b5db8f",
   "metadata": {},
   "source": [
    "# Sentiment Analysis with TextBlob\n",
    "\n",
    "In here used relabeled dataset & its contain more than 10000 data."
   ]
  },
  {
   "cell_type": "code",
   "execution_count": 39,
   "id": "b3a176fc-ada2-4b5b-8ad7-1f576e8f1ca8",
   "metadata": {},
   "outputs": [],
   "source": [
    "# Importing data\n",
    "import pandas as pd\n",
    "import numpy as np\n",
    "import seaborn as sns\n",
    "import matplotlib.pyplot as plt\n",
    "\n",
    "from textblob import TextBlob\n",
    "from sklearn.metrics import confusion_matrix, accuracy_score"
   ]
  },
  {
   "cell_type": "markdown",
   "id": "e556e8f5-73be-42d0-96ad-1b7491b8ea44",
   "metadata": {},
   "source": [
    "## Load data"
   ]
  },
  {
   "cell_type": "code",
   "execution_count": 40,
   "id": "a163eed8-3122-47ee-b1dd-8c4d1fd92410",
   "metadata": {},
   "outputs": [
    {
     "data": {
      "text/html": [
       "<div>\n",
       "<style scoped>\n",
       "    .dataframe tbody tr th:only-of-type {\n",
       "        vertical-align: middle;\n",
       "    }\n",
       "\n",
       "    .dataframe tbody tr th {\n",
       "        vertical-align: top;\n",
       "    }\n",
       "\n",
       "    .dataframe thead th {\n",
       "        text-align: right;\n",
       "    }\n",
       "</style>\n",
       "<table border=\"1\" class=\"dataframe\">\n",
       "  <thead>\n",
       "    <tr style=\"text-align: right;\">\n",
       "      <th></th>\n",
       "      <th>sentence</th>\n",
       "      <th>topic</th>\n",
       "      <th>Score sentiment</th>\n",
       "      <th>Sentiment Range</th>\n",
       "      <th>Sentiment Label</th>\n",
       "    </tr>\n",
       "  </thead>\n",
       "  <tbody>\n",
       "    <tr>\n",
       "      <th>0</th>\n",
       "      <td>The cost of this job is very demanding and the...</td>\n",
       "      <td>tutor</td>\n",
       "      <td>0.500000</td>\n",
       "      <td>0.5</td>\n",
       "      <td>Neutral</td>\n",
       "    </tr>\n",
       "    <tr>\n",
       "      <th>1</th>\n",
       "      <td>There are not enough people to listen and list...</td>\n",
       "      <td>tutor</td>\n",
       "      <td>0.500000</td>\n",
       "      <td>0.5</td>\n",
       "      <td>Neutral</td>\n",
       "    </tr>\n",
       "    <tr>\n",
       "      <th>2</th>\n",
       "      <td>The price of this job is so small that it cann...</td>\n",
       "      <td>tutor</td>\n",
       "      <td>0.500000</td>\n",
       "      <td>0.5</td>\n",
       "      <td>Neutral</td>\n",
       "    </tr>\n",
       "    <tr>\n",
       "      <th>3</th>\n",
       "      <td>Mom—I don't know what I'm talking about, I don...</td>\n",
       "      <td>tutor</td>\n",
       "      <td>0.500000</td>\n",
       "      <td>0.5</td>\n",
       "      <td>Neutral</td>\n",
       "    </tr>\n",
       "    <tr>\n",
       "      <th>4</th>\n",
       "      <td>The price of the job is too low for the sales ...</td>\n",
       "      <td>tutor</td>\n",
       "      <td>0.500000</td>\n",
       "      <td>0.5</td>\n",
       "      <td>Neutral</td>\n",
       "    </tr>\n",
       "    <tr>\n",
       "      <th>...</th>\n",
       "      <td>...</td>\n",
       "      <td>...</td>\n",
       "      <td>...</td>\n",
       "      <td>...</td>\n",
       "      <td>...</td>\n",
       "    </tr>\n",
       "    <tr>\n",
       "      <th>10141</th>\n",
       "      <td>item practical useful</td>\n",
       "      <td>others</td>\n",
       "      <td>0.967135</td>\n",
       "      <td>1.0</td>\n",
       "      <td>Positive</td>\n",
       "    </tr>\n",
       "    <tr>\n",
       "      <th>10142</th>\n",
       "      <td>good understanding always evaluating price</td>\n",
       "      <td>others</td>\n",
       "      <td>0.953008</td>\n",
       "      <td>1.0</td>\n",
       "      <td>Positive</td>\n",
       "    </tr>\n",
       "    <tr>\n",
       "      <th>10143</th>\n",
       "      <td>fish price unreliable price high price range</td>\n",
       "      <td>others</td>\n",
       "      <td>0.802780</td>\n",
       "      <td>0.9</td>\n",
       "      <td>Positive</td>\n",
       "    </tr>\n",
       "    <tr>\n",
       "      <th>10144</th>\n",
       "      <td>detailed quite bit detailed analysis</td>\n",
       "      <td>others</td>\n",
       "      <td>0.928498</td>\n",
       "      <td>1.0</td>\n",
       "      <td>Positive</td>\n",
       "    </tr>\n",
       "    <tr>\n",
       "      <th>10145</th>\n",
       "      <td>guy always working creating fake book making n...</td>\n",
       "      <td>others</td>\n",
       "      <td>0.852216</td>\n",
       "      <td>0.9</td>\n",
       "      <td>Positive</td>\n",
       "    </tr>\n",
       "  </tbody>\n",
       "</table>\n",
       "<p>10146 rows × 5 columns</p>\n",
       "</div>"
      ],
      "text/plain": [
       "                                                sentence   topic  \\\n",
       "0      The cost of this job is very demanding and the...   tutor   \n",
       "1      There are not enough people to listen and list...   tutor   \n",
       "2      The price of this job is so small that it cann...   tutor   \n",
       "3      Mom—I don't know what I'm talking about, I don...   tutor   \n",
       "4      The price of the job is too low for the sales ...   tutor   \n",
       "...                                                  ...     ...   \n",
       "10141                              item practical useful  others   \n",
       "10142         good understanding always evaluating price  others   \n",
       "10143       fish price unreliable price high price range  others   \n",
       "10144               detailed quite bit detailed analysis  others   \n",
       "10145  guy always working creating fake book making n...  others   \n",
       "\n",
       "       Score sentiment  Sentiment Range Sentiment Label  \n",
       "0             0.500000              0.5         Neutral  \n",
       "1             0.500000              0.5         Neutral  \n",
       "2             0.500000              0.5         Neutral  \n",
       "3             0.500000              0.5         Neutral  \n",
       "4             0.500000              0.5         Neutral  \n",
       "...                ...              ...             ...  \n",
       "10141         0.967135              1.0        Positive  \n",
       "10142         0.953008              1.0        Positive  \n",
       "10143         0.802780              0.9        Positive  \n",
       "10144         0.928498              1.0        Positive  \n",
       "10145         0.852216              0.9        Positive  \n",
       "\n",
       "[10146 rows x 5 columns]"
      ]
     },
     "execution_count": 40,
     "metadata": {},
     "output_type": "execute_result"
    }
   ],
   "source": [
    "student_feedback=pd.read_excel('student_feedback_train.xlsx',index_col=False)\n",
    "student_feedback"
   ]
  },
  {
   "cell_type": "code",
   "execution_count": 41,
   "id": "8f1d0b74-6ccf-4f06-827a-74a2138753f1",
   "metadata": {},
   "outputs": [],
   "source": [
    "student_feedback['Sentiment Label'] = student_feedback['Sentiment Label'].str.lower()\n"
   ]
  },
  {
   "cell_type": "code",
   "execution_count": 42,
   "id": "579db15e-443d-4c82-b6a6-85889148055a",
   "metadata": {},
   "outputs": [
    {
     "data": {
      "text/plain": [
       "(10146, 5)"
      ]
     },
     "execution_count": 42,
     "metadata": {},
     "output_type": "execute_result"
    }
   ],
   "source": [
    "student_feedback.shape"
   ]
  },
  {
   "cell_type": "code",
   "execution_count": 43,
   "id": "7a08a5c9-cd59-42b0-9274-cde6cd7dbf50",
   "metadata": {},
   "outputs": [
    {
     "data": {
      "text/plain": [
       "Sentiment Label\n",
       "positive    4479\n",
       "negative    3359\n",
       "neutral     2308\n",
       "Name: count, dtype: int64"
      ]
     },
     "execution_count": 43,
     "metadata": {},
     "output_type": "execute_result"
    }
   ],
   "source": [
    "student_feedback['Sentiment Label'].value_counts()"
   ]
  },
  {
   "cell_type": "code",
   "execution_count": 44,
   "id": "fc4bda85-021e-4020-90fa-f1ca3d87a852",
   "metadata": {},
   "outputs": [
    {
     "name": "stderr",
     "output_type": "stream",
     "text": [
      "C:\\Users\\ashik\\AppData\\Local\\Temp\\ipykernel_18628\\1225210926.py:6: FutureWarning: \n",
      "\n",
      "Passing `palette` without assigning `hue` is deprecated and will be removed in v0.14.0. Assign the `x` variable to `hue` and set `legend=False` for the same effect.\n",
      "\n",
      "  sns.barplot(x=sentiment_counts.index, y=sentiment_counts.values, palette=\"viridis\")\n"
     ]
    },
    {
     "data": {
      "image/png": "[encoded data removed]",
      "text/plain": [
       "<Figure size 800x600 with 1 Axes>"
      ]
     },
     "metadata": {},
     "output_type": "display_data"
    }
   ],
   "source": [
    "# Assuming there's a column named 'sentiment' with values 'positive', 'negative', 'neutral'\n",
    "sentiment_counts = student_feedback['Sentiment Label'].value_counts()\n",
    "\n",
    "# Plotting\n",
    "plt.figure(figsize=(8, 6))\n",
    "sns.barplot(x=sentiment_counts.index, y=sentiment_counts.values, palette=\"viridis\")\n",
    "plt.title(\"Sentiment Distribution in Combined Dataset\")\n",
    "plt.xlabel(\"Sentiment\")\n",
    "plt.ylabel(\"Count\")\n",
    "plt.show();"
   ]
  },
  {
   "cell_type": "code",
   "execution_count": 45,
   "id": "1b030758-ae7d-4339-8b43-c2695bf52637",
   "metadata": {},
   "outputs": [],
   "source": [
    "topic_counts = student_feedback['topic'].value_counts()"
   ]
  },
  {
   "cell_type": "code",
   "execution_count": 46,
   "id": "a4714e9b-017f-4aab-8b3d-05261984eda7",
   "metadata": {},
   "outputs": [
    {
     "name": "stderr",
     "output_type": "stream",
     "text": [
      "C:\\Users\\ashik\\AppData\\Local\\Temp\\ipykernel_18628\\1712054453.py:3: FutureWarning: \n",
      "\n",
      "Passing `palette` without assigning `hue` is deprecated and will be removed in v0.14.0. Assign the `x` variable to `hue` and set `legend=False` for the same effect.\n",
      "\n",
      "  sns.barplot(x=topic_counts.index, y=topic_counts.values, palette=\"plasma\")\n"
     ]
    },
    {
     "data": {
      "image/png": "[encoded data removed]",
      "text/plain": [
       "<Figure size 1000x500 with 1 Axes>"
      ]
     },
     "metadata": {},
     "output_type": "display_data"
    }
   ],
   "source": [
    "# Plotting Topic Distribution\n",
    "plt.figure(figsize=(10, 5))\n",
    "sns.barplot(x=topic_counts.index, y=topic_counts.values, palette=\"plasma\")\n",
    "plt.title(\"Topic Distribution in Combined Dataset\")\n",
    "plt.xlabel(\"Topic\")\n",
    "plt.ylabel(\"Count\")\n",
    "plt.xticks(rotation=45, ha=\"right\")\n",
    "plt.show()"
   ]
  },
  {
   "cell_type": "markdown",
   "id": "d42e051a-648a-49f3-a73f-f2a7d1f34bae",
   "metadata": {},
   "source": [
    "## Sentimant Analysis using TextBlob"
   ]
  },
  {
   "cell_type": "code",
   "execution_count": 47,
   "id": "59dfdd94-4549-4b76-afd5-3789e52d472f",
   "metadata": {},
   "outputs": [],
   "source": [
    "def get_sentiment(text):\n",
    "    analysis = TextBlob(text)\n",
    "    polarity = analysis.sentiment.polarity\n",
    "    return polarity"
   ]
  },
  {
   "cell_type": "code",
   "execution_count": 67,
   "id": "3bd3b3ab-d717-4573-bedf-0aa8f728982e",
   "metadata": {},
   "outputs": [],
   "source": [
    "def get_subjectivity(text):\n",
    "    analysis = TextBlob(text)\n",
    "    subjectivity = analysis.sentiment.subjectivity\n",
    "    return subjectivity"
   ]
  },
  {
   "cell_type": "code",
   "execution_count": 48,
   "id": "e356ffcc-106c-4e93-b3a5-23e3fef8bb0d",
   "metadata": {},
   "outputs": [
    {
     "data": {
      "text/plain": [
       "pandas.core.series.Series"
      ]
     },
     "execution_count": 48,
     "metadata": {},
     "output_type": "execute_result"
    }
   ],
   "source": [
    "type(student_feedback['sentence'])"
   ]
  },
  {
   "cell_type": "code",
   "execution_count": 49,
   "id": "12d7bcdc-61d5-45dc-9606-af3f5689138d",
   "metadata": {},
   "outputs": [
    {
     "data": {
      "text/plain": [
       "'The cost of this job is very demanding and the students are not able to cope with it.'"
      ]
     },
     "execution_count": 49,
     "metadata": {},
     "output_type": "execute_result"
    }
   ],
   "source": [
    "student_feedback['sentence'][0]"
   ]
  },
  {
   "cell_type": "code",
   "execution_count": 71,
   "id": "bb09d8b8-c8ce-436e-be2f-a06d0d831da3",
   "metadata": {},
   "outputs": [
    {
     "name": "stdout",
     "output_type": "stream",
     "text": [
      "Polarity:-0.024999999999999994\n",
      "subjectivity:0.4625\n"
     ]
    }
   ],
   "source": [
    "print(f\"Polarity:{get_sentiment(student_feedback['sentence'][0])}\")\n",
    "print(f\"subjectivity:{get_subjectivity(student_feedback['sentence'][0])}\")"
   ]
  },
  {
   "cell_type": "code",
   "execution_count": 72,
   "id": "7511c65b-b0ff-4813-a71a-24df7a63aeb9",
   "metadata": {},
   "outputs": [],
   "source": [
    "# Convert the 'sentence' column to strings\n",
    "student_feedback['sentence'] = student_feedback['sentence'].astype(str)\n",
    "student_feedback['polarity_score']=student_feedback['sentence'].apply(get_sentiment)"
   ]
  },
  {
   "cell_type": "code",
   "execution_count": 73,
   "id": "0c3be24c-4d6f-467b-9bd4-a6605c1cd335",
   "metadata": {},
   "outputs": [],
   "source": [
    "student_feedback['subjectivity_score'] = student_feedback['sentence'].apply(get_subjectivity)\n"
   ]
  },
  {
   "cell_type": "code",
   "execution_count": 74,
   "id": "78058428-ed39-4c52-b851-f26795f16766",
   "metadata": {},
   "outputs": [
    {
     "data": {
      "text/html": [
       "<div>\n",
       "<style scoped>\n",
       "    .dataframe tbody tr th:only-of-type {\n",
       "        vertical-align: middle;\n",
       "    }\n",
       "\n",
       "    .dataframe tbody tr th {\n",
       "        vertical-align: top;\n",
       "    }\n",
       "\n",
       "    .dataframe thead th {\n",
       "        text-align: right;\n",
       "    }\n",
       "</style>\n",
       "<table border=\"1\" class=\"dataframe\">\n",
       "  <thead>\n",
       "    <tr style=\"text-align: right;\">\n",
       "      <th></th>\n",
       "      <th>sentence</th>\n",
       "      <th>topic</th>\n",
       "      <th>Score sentiment</th>\n",
       "      <th>Sentiment Range</th>\n",
       "      <th>Sentiment Label</th>\n",
       "      <th>polarity_score</th>\n",
       "      <th>testBlob_label</th>\n",
       "      <th>testBlob_label_1</th>\n",
       "      <th>subjectivity_score</th>\n",
       "    </tr>\n",
       "  </thead>\n",
       "  <tbody>\n",
       "    <tr>\n",
       "      <th>0</th>\n",
       "      <td>The cost of this job is very demanding and the...</td>\n",
       "      <td>tutor</td>\n",
       "      <td>0.500000</td>\n",
       "      <td>0.5</td>\n",
       "      <td>neutral</td>\n",
       "      <td>-0.025000</td>\n",
       "      <td>negative</td>\n",
       "      <td>neutral</td>\n",
       "      <td>0.462500</td>\n",
       "    </tr>\n",
       "    <tr>\n",
       "      <th>1</th>\n",
       "      <td>There are not enough people to listen and list...</td>\n",
       "      <td>tutor</td>\n",
       "      <td>0.500000</td>\n",
       "      <td>0.5</td>\n",
       "      <td>neutral</td>\n",
       "      <td>0.000000</td>\n",
       "      <td>neutral</td>\n",
       "      <td>neutral</td>\n",
       "      <td>0.500000</td>\n",
       "    </tr>\n",
       "    <tr>\n",
       "      <th>2</th>\n",
       "      <td>The price of this job is so small that it cann...</td>\n",
       "      <td>tutor</td>\n",
       "      <td>0.500000</td>\n",
       "      <td>0.5</td>\n",
       "      <td>neutral</td>\n",
       "      <td>-0.125000</td>\n",
       "      <td>negative</td>\n",
       "      <td>negative</td>\n",
       "      <td>0.400000</td>\n",
       "    </tr>\n",
       "    <tr>\n",
       "      <th>3</th>\n",
       "      <td>Mom—I don't know what I'm talking about, I don...</td>\n",
       "      <td>tutor</td>\n",
       "      <td>0.500000</td>\n",
       "      <td>0.5</td>\n",
       "      <td>neutral</td>\n",
       "      <td>0.000000</td>\n",
       "      <td>neutral</td>\n",
       "      <td>neutral</td>\n",
       "      <td>0.000000</td>\n",
       "    </tr>\n",
       "    <tr>\n",
       "      <th>4</th>\n",
       "      <td>The price of the job is too low for the sales ...</td>\n",
       "      <td>tutor</td>\n",
       "      <td>0.500000</td>\n",
       "      <td>0.5</td>\n",
       "      <td>neutral</td>\n",
       "      <td>-0.062500</td>\n",
       "      <td>negative</td>\n",
       "      <td>neutral</td>\n",
       "      <td>0.337500</td>\n",
       "    </tr>\n",
       "    <tr>\n",
       "      <th>...</th>\n",
       "      <td>...</td>\n",
       "      <td>...</td>\n",
       "      <td>...</td>\n",
       "      <td>...</td>\n",
       "      <td>...</td>\n",
       "      <td>...</td>\n",
       "      <td>...</td>\n",
       "      <td>...</td>\n",
       "      <td>...</td>\n",
       "    </tr>\n",
       "    <tr>\n",
       "      <th>10141</th>\n",
       "      <td>item practical useful</td>\n",
       "      <td>others</td>\n",
       "      <td>0.967135</td>\n",
       "      <td>1.0</td>\n",
       "      <td>positive</td>\n",
       "      <td>0.300000</td>\n",
       "      <td>positive</td>\n",
       "      <td>positive</td>\n",
       "      <td>0.000000</td>\n",
       "    </tr>\n",
       "    <tr>\n",
       "      <th>10142</th>\n",
       "      <td>good understanding always evaluating price</td>\n",
       "      <td>others</td>\n",
       "      <td>0.953008</td>\n",
       "      <td>1.0</td>\n",
       "      <td>positive</td>\n",
       "      <td>0.700000</td>\n",
       "      <td>positive</td>\n",
       "      <td>positive</td>\n",
       "      <td>0.600000</td>\n",
       "    </tr>\n",
       "    <tr>\n",
       "      <th>10143</th>\n",
       "      <td>fish price unreliable price high price range</td>\n",
       "      <td>others</td>\n",
       "      <td>0.802780</td>\n",
       "      <td>0.9</td>\n",
       "      <td>positive</td>\n",
       "      <td>0.160000</td>\n",
       "      <td>positive</td>\n",
       "      <td>positive</td>\n",
       "      <td>0.540000</td>\n",
       "    </tr>\n",
       "    <tr>\n",
       "      <th>10144</th>\n",
       "      <td>detailed quite bit detailed analysis</td>\n",
       "      <td>others</td>\n",
       "      <td>0.928498</td>\n",
       "      <td>1.0</td>\n",
       "      <td>positive</td>\n",
       "      <td>0.400000</td>\n",
       "      <td>positive</td>\n",
       "      <td>positive</td>\n",
       "      <td>0.750000</td>\n",
       "    </tr>\n",
       "    <tr>\n",
       "      <th>10145</th>\n",
       "      <td>guy always working creating fake book making n...</td>\n",
       "      <td>others</td>\n",
       "      <td>0.852216</td>\n",
       "      <td>0.9</td>\n",
       "      <td>positive</td>\n",
       "      <td>-0.181818</td>\n",
       "      <td>negative</td>\n",
       "      <td>negative</td>\n",
       "      <td>0.727273</td>\n",
       "    </tr>\n",
       "  </tbody>\n",
       "</table>\n",
       "<p>10146 rows × 9 columns</p>\n",
       "</div>"
      ],
      "text/plain": [
       "                                                sentence   topic  \\\n",
       "0      The cost of this job is very demanding and the...   tutor   \n",
       "1      There are not enough people to listen and list...   tutor   \n",
       "2      The price of this job is so small that it cann...   tutor   \n",
       "3      Mom—I don't know what I'm talking about, I don...   tutor   \n",
       "4      The price of the job is too low for the sales ...   tutor   \n",
       "...                                                  ...     ...   \n",
       "10141                              item practical useful  others   \n",
       "10142         good understanding always evaluating price  others   \n",
       "10143       fish price unreliable price high price range  others   \n",
       "10144               detailed quite bit detailed analysis  others   \n",
       "10145  guy always working creating fake book making n...  others   \n",
       "\n",
       "       Score sentiment  Sentiment Range Sentiment Label  polarity_score  \\\n",
       "0             0.500000              0.5         neutral       -0.025000   \n",
       "1             0.500000              0.5         neutral        0.000000   \n",
       "2             0.500000              0.5         neutral       -0.125000   \n",
       "3             0.500000              0.5         neutral        0.000000   \n",
       "4             0.500000              0.5         neutral       -0.062500   \n",
       "...                ...              ...             ...             ...   \n",
       "10141         0.967135              1.0        positive        0.300000   \n",
       "10142         0.953008              1.0        positive        0.700000   \n",
       "10143         0.802780              0.9        positive        0.160000   \n",
       "10144         0.928498              1.0        positive        0.400000   \n",
       "10145         0.852216              0.9        positive       -0.181818   \n",
       "\n",
       "      testBlob_label testBlob_label_1  subjectivity_score  \n",
       "0           negative          neutral            0.462500  \n",
       "1            neutral          neutral            0.500000  \n",
       "2           negative         negative            0.400000  \n",
       "3            neutral          neutral            0.000000  \n",
       "4           negative          neutral            0.337500  \n",
       "...              ...              ...                 ...  \n",
       "10141       positive         positive            0.000000  \n",
       "10142       positive         positive            0.600000  \n",
       "10143       positive         positive            0.540000  \n",
       "10144       positive         positive            0.750000  \n",
       "10145       negative         negative            0.727273  \n",
       "\n",
       "[10146 rows x 9 columns]"
      ]
     },
     "execution_count": 74,
     "metadata": {},
     "output_type": "execute_result"
    }
   ],
   "source": [
    "student_feedback"
   ]
  },
  {
   "cell_type": "code",
   "execution_count": 53,
   "id": "e8055c75-2437-4c65-b71c-6eae0760db7c",
   "metadata": {},
   "outputs": [
    {
     "data": {
      "text/plain": [
       "polarity_score\n",
       " 0.000000    3305\n",
       " 0.200000     441\n",
       " 0.500000     411\n",
       "-0.125000     305\n",
       " 0.250000     191\n",
       "             ... \n",
       "-0.600000       1\n",
       "-0.048611       1\n",
       "-0.183333       1\n",
       " 0.016667       1\n",
       "-0.181818       1\n",
       "Name: count, Length: 1131, dtype: int64"
      ]
     },
     "execution_count": 53,
     "metadata": {},
     "output_type": "execute_result"
    }
   ],
   "source": [
    "student_feedback['polarity_score'].value_counts()"
   ]
  },
  {
   "cell_type": "markdown",
   "id": "44ea142b-65c5-4dcd-93a9-eff1bac3d03d",
   "metadata": {},
   "source": [
    "## Analysis the Results"
   ]
  },
  {
   "cell_type": "markdown",
   "id": "8022d445-f9bb-474f-9fb7-acb18ed57ab7",
   "metadata": {},
   "source": [
    "### Sentimant/Polarity\n",
    "\n",
    "Polarity measures the sentiment of a text, indicating whether it is positive, negative, or neutral. A score close to 1 suggests positive sentiment, a score close to -1 indicates negative sentiment, and a score around 0 reflects neutrality."
   ]
  },
  {
   "cell_type": "code",
   "execution_count": 54,
   "id": "b6361aa4-359e-471e-9bfc-eb6fa00772af",
   "metadata": {},
   "outputs": [
    {
     "data": {
      "image/png": "[encoded data removed]",
      "text/plain": [
       "<Figure size 1000x600 with 1 Axes>"
      ]
     },
     "metadata": {},
     "output_type": "display_data"
    }
   ],
   "source": [
    "# Categorize polarity scores\n",
    "polarity_zero = student_feedback[student_feedback['polarity_score'] == 0]\n",
    "polarity_positive = student_feedback[student_feedback['polarity_score'] > 0]\n",
    "polarity_negative = student_feedback[student_feedback['polarity_score'] < 0]\n",
    "\n",
    "# Plot the histogram\n",
    "plt.figure(figsize=(10, 6))\n",
    "\n",
    "# Histogram for polarity = 0\n",
    "plt.hist(polarity_zero['polarity_score'], bins=1, alpha=0.7, label='Polarity = 0', color='grey')\n",
    "\n",
    "# Histogram for polarity > 0\n",
    "plt.hist(polarity_positive['polarity_score'], bins=20, alpha=0.7, label='Polarity > 0', color='red')\n",
    "\n",
    "# Histogram for polarity < 0\n",
    "plt.hist(polarity_negative['polarity_score'], bins=20, alpha=0.7, label='Polarity < 0', color='blue')\n",
    "\n",
    "# Adding labels and title\n",
    "plt.xlabel('Polarity Score')\n",
    "plt.ylabel('Frequency')\n",
    "plt.title('Histogram of Polarity Scores')\n",
    "plt.legend()\n",
    "\n",
    "# Show the plot\n",
    "plt.show()"
   ]
  },
  {
   "cell_type": "code",
   "execution_count": 55,
   "id": "c08e239f-2aff-4df5-8780-6fc129d8d8a5",
   "metadata": {},
   "outputs": [
    {
     "data": {
      "text/plain": [
       "Sentiment Label\n",
       "positive    4479\n",
       "negative    3359\n",
       "neutral     2308\n",
       "Name: count, dtype: int64"
      ]
     },
     "execution_count": 55,
     "metadata": {},
     "output_type": "execute_result"
    }
   ],
   "source": [
    "student_feedback['Sentiment Label'].value_counts()"
   ]
  },
  {
   "cell_type": "markdown",
   "id": "8bbd6c2a-afa2-45c0-9a53-920a3bc448f8",
   "metadata": {},
   "source": [
    "The function `classify_polarity` is designed to categorize the sentiment polarity of a text into three labels: 'negative', 'positive', or 'neutral'. It assigns 'negative' to polarities less than 0, 'positive' to polarities greater than 0, and 'neutral' to a polarity exactly equal to 0. This function is applied to the `polarity_score` column of the `student_feedback` DataFrame to create a new column, `testBlob_label`, which contains the sentiment classification for each entry."
   ]
  },
  {
   "cell_type": "code",
   "execution_count": 56,
   "id": "e02d9675-0466-4fe9-b3d0-2c3db041f702",
   "metadata": {},
   "outputs": [],
   "source": [
    "# Define the conditions and corresponding labels\n",
    "def classify_polarity(polarity):\n",
    "    if polarity < 0:\n",
    "        return 'negative'\n",
    "    elif polarity > 0:\n",
    "        return 'positive'\n",
    "    else:\n",
    "        return 'neutral'"
   ]
  },
  {
   "cell_type": "code",
   "execution_count": 57,
   "id": "8a58688e-bcbb-4b55-9b38-aad7734c90ea",
   "metadata": {},
   "outputs": [],
   "source": [
    "# Apply the function to create the 'testBlob_label' column\n",
    "student_feedback['testBlob_label'] = student_feedback['polarity_score'].apply(classify_polarity)"
   ]
  },
  {
   "cell_type": "code",
   "execution_count": 58,
   "id": "eb046ada-35ae-4c26-97f7-e375476ffed6",
   "metadata": {},
   "outputs": [
    {
     "data": {
      "text/plain": [
       "testBlob_label\n",
       "positive    4693\n",
       "neutral     3305\n",
       "negative    2148\n",
       "Name: count, dtype: int64"
      ]
     },
     "execution_count": 58,
     "metadata": {},
     "output_type": "execute_result"
    }
   ],
   "source": [
    "student_feedback['testBlob_label'].value_counts()"
   ]
  },
  {
   "cell_type": "code",
   "execution_count": 59,
   "id": "d42d4bb9-d871-4ab7-84d9-c3dba13de5ff",
   "metadata": {},
   "outputs": [
    {
     "data": {
      "text/html": [
       "<div>\n",
       "<style scoped>\n",
       "    .dataframe tbody tr th:only-of-type {\n",
       "        vertical-align: middle;\n",
       "    }\n",
       "\n",
       "    .dataframe tbody tr th {\n",
       "        vertical-align: top;\n",
       "    }\n",
       "\n",
       "    .dataframe thead th {\n",
       "        text-align: right;\n",
       "    }\n",
       "</style>\n",
       "<table border=\"1\" class=\"dataframe\">\n",
       "  <thead>\n",
       "    <tr style=\"text-align: right;\">\n",
       "      <th></th>\n",
       "      <th>sentence</th>\n",
       "      <th>topic</th>\n",
       "      <th>Score sentiment</th>\n",
       "      <th>Sentiment Range</th>\n",
       "      <th>Sentiment Label</th>\n",
       "      <th>polarity_score</th>\n",
       "      <th>testBlob_label</th>\n",
       "    </tr>\n",
       "  </thead>\n",
       "  <tbody>\n",
       "    <tr>\n",
       "      <th>0</th>\n",
       "      <td>The cost of this job is very demanding and the...</td>\n",
       "      <td>tutor</td>\n",
       "      <td>0.500000</td>\n",
       "      <td>0.5</td>\n",
       "      <td>neutral</td>\n",
       "      <td>-0.025000</td>\n",
       "      <td>negative</td>\n",
       "    </tr>\n",
       "    <tr>\n",
       "      <th>1</th>\n",
       "      <td>There are not enough people to listen and list...</td>\n",
       "      <td>tutor</td>\n",
       "      <td>0.500000</td>\n",
       "      <td>0.5</td>\n",
       "      <td>neutral</td>\n",
       "      <td>0.000000</td>\n",
       "      <td>neutral</td>\n",
       "    </tr>\n",
       "    <tr>\n",
       "      <th>2</th>\n",
       "      <td>The price of this job is so small that it cann...</td>\n",
       "      <td>tutor</td>\n",
       "      <td>0.500000</td>\n",
       "      <td>0.5</td>\n",
       "      <td>neutral</td>\n",
       "      <td>-0.125000</td>\n",
       "      <td>negative</td>\n",
       "    </tr>\n",
       "    <tr>\n",
       "      <th>3</th>\n",
       "      <td>Mom—I don't know what I'm talking about, I don...</td>\n",
       "      <td>tutor</td>\n",
       "      <td>0.500000</td>\n",
       "      <td>0.5</td>\n",
       "      <td>neutral</td>\n",
       "      <td>0.000000</td>\n",
       "      <td>neutral</td>\n",
       "    </tr>\n",
       "    <tr>\n",
       "      <th>4</th>\n",
       "      <td>The price of the job is too low for the sales ...</td>\n",
       "      <td>tutor</td>\n",
       "      <td>0.500000</td>\n",
       "      <td>0.5</td>\n",
       "      <td>neutral</td>\n",
       "      <td>-0.062500</td>\n",
       "      <td>negative</td>\n",
       "    </tr>\n",
       "    <tr>\n",
       "      <th>...</th>\n",
       "      <td>...</td>\n",
       "      <td>...</td>\n",
       "      <td>...</td>\n",
       "      <td>...</td>\n",
       "      <td>...</td>\n",
       "      <td>...</td>\n",
       "      <td>...</td>\n",
       "    </tr>\n",
       "    <tr>\n",
       "      <th>10141</th>\n",
       "      <td>item practical useful</td>\n",
       "      <td>others</td>\n",
       "      <td>0.967135</td>\n",
       "      <td>1.0</td>\n",
       "      <td>positive</td>\n",
       "      <td>0.300000</td>\n",
       "      <td>positive</td>\n",
       "    </tr>\n",
       "    <tr>\n",
       "      <th>10142</th>\n",
       "      <td>good understanding always evaluating price</td>\n",
       "      <td>others</td>\n",
       "      <td>0.953008</td>\n",
       "      <td>1.0</td>\n",
       "      <td>positive</td>\n",
       "      <td>0.700000</td>\n",
       "      <td>positive</td>\n",
       "    </tr>\n",
       "    <tr>\n",
       "      <th>10143</th>\n",
       "      <td>fish price unreliable price high price range</td>\n",
       "      <td>others</td>\n",
       "      <td>0.802780</td>\n",
       "      <td>0.9</td>\n",
       "      <td>positive</td>\n",
       "      <td>0.160000</td>\n",
       "      <td>positive</td>\n",
       "    </tr>\n",
       "    <tr>\n",
       "      <th>10144</th>\n",
       "      <td>detailed quite bit detailed analysis</td>\n",
       "      <td>others</td>\n",
       "      <td>0.928498</td>\n",
       "      <td>1.0</td>\n",
       "      <td>positive</td>\n",
       "      <td>0.400000</td>\n",
       "      <td>positive</td>\n",
       "    </tr>\n",
       "    <tr>\n",
       "      <th>10145</th>\n",
       "      <td>guy always working creating fake book making n...</td>\n",
       "      <td>others</td>\n",
       "      <td>0.852216</td>\n",
       "      <td>0.9</td>\n",
       "      <td>positive</td>\n",
       "      <td>-0.181818</td>\n",
       "      <td>negative</td>\n",
       "    </tr>\n",
       "  </tbody>\n",
       "</table>\n",
       "<p>10146 rows × 7 columns</p>\n",
       "</div>"
      ],
      "text/plain": [
       "                                                sentence   topic  \\\n",
       "0      The cost of this job is very demanding and the...   tutor   \n",
       "1      There are not enough people to listen and list...   tutor   \n",
       "2      The price of this job is so small that it cann...   tutor   \n",
       "3      Mom—I don't know what I'm talking about, I don...   tutor   \n",
       "4      The price of the job is too low for the sales ...   tutor   \n",
       "...                                                  ...     ...   \n",
       "10141                              item practical useful  others   \n",
       "10142         good understanding always evaluating price  others   \n",
       "10143       fish price unreliable price high price range  others   \n",
       "10144               detailed quite bit detailed analysis  others   \n",
       "10145  guy always working creating fake book making n...  others   \n",
       "\n",
       "       Score sentiment  Sentiment Range Sentiment Label  polarity_score  \\\n",
       "0             0.500000              0.5         neutral       -0.025000   \n",
       "1             0.500000              0.5         neutral        0.000000   \n",
       "2             0.500000              0.5         neutral       -0.125000   \n",
       "3             0.500000              0.5         neutral        0.000000   \n",
       "4             0.500000              0.5         neutral       -0.062500   \n",
       "...                ...              ...             ...             ...   \n",
       "10141         0.967135              1.0        positive        0.300000   \n",
       "10142         0.953008              1.0        positive        0.700000   \n",
       "10143         0.802780              0.9        positive        0.160000   \n",
       "10144         0.928498              1.0        positive        0.400000   \n",
       "10145         0.852216              0.9        positive       -0.181818   \n",
       "\n",
       "      testBlob_label  \n",
       "0           negative  \n",
       "1            neutral  \n",
       "2           negative  \n",
       "3            neutral  \n",
       "4           negative  \n",
       "...              ...  \n",
       "10141       positive  \n",
       "10142       positive  \n",
       "10143       positive  \n",
       "10144       positive  \n",
       "10145       negative  \n",
       "\n",
       "[10146 rows x 7 columns]"
      ]
     },
     "execution_count": 59,
     "metadata": {},
     "output_type": "execute_result"
    }
   ],
   "source": [
    "student_feedback"
   ]
  },
  {
   "cell_type": "code",
   "execution_count": 60,
   "id": "cef0e83f-f39b-43c0-ace9-249d83045af6",
   "metadata": {},
   "outputs": [],
   "source": [
    "def calculate_sentiment_accuracy(df, true_label_col, predicted_label_col):\n",
    "    \"\"\"\n",
    "    Calculate and print the overall accuracy and accuracy for each sentiment category.\n",
    "\n",
    "    Parameters:\n",
    "    - df (pd.DataFrame): The DataFrame containing the true and predicted labels.\n",
    "    - true_label_col (str): The column name for the true sentiment labels.\n",
    "    - predicted_label_col (str): The column name for the predicted sentiment labels.\n",
    "    \"\"\"\n",
    "    # Calculate confusion matrix\n",
    "    conf_matrix = confusion_matrix(df[true_label_col], df[predicted_label_col], labels=['positive', 'negative', 'neutral'])\n",
    "    \n",
    "    # Create a DataFrame to better visualize the confusion matrix\n",
    "    conf_matrix_df = pd.DataFrame(conf_matrix, index=['positive', 'negative', 'neutral'], columns=['positive', 'negative', 'neutral'])\n",
    "\n",
    "    # Calculate overall accuracy\n",
    "    overall_accuracy = accuracy_score(df[true_label_col], df[predicted_label_col])\n",
    "\n",
    "    # Calculate accuracy for each sentiment category\n",
    "    positive_accuracy = conf_matrix_df.loc['positive', 'positive'] / conf_matrix_df.loc['positive'].sum()\n",
    "    negative_accuracy = conf_matrix_df.loc['negative', 'negative'] / conf_matrix_df.loc['negative'].sum()\n",
    "    neutral_accuracy = conf_matrix_df.loc['neutral', 'neutral'] / conf_matrix_df.loc['neutral'].sum()\n",
    "\n",
    "    # Print the results\n",
    "    print(\"Confusion Matrix:\")\n",
    "    print(conf_matrix_df)\n",
    "    print(\"\\nOverall Accuracy: {:.2f}\".format(overall_accuracy))\n",
    "    print(\"Positive Accuracy: {:.2f}\".format(positive_accuracy))\n",
    "    print(\"Negative Accuracy: {:.2f}\".format(negative_accuracy))\n",
    "    print(\"Neutral Accuracy: {:.2f}\".format(neutral_accuracy))"
   ]
  },
  {
   "cell_type": "code",
   "execution_count": 61,
   "id": "5050d690-f8d7-4df0-bacf-11238bde4faf",
   "metadata": {},
   "outputs": [
    {
     "name": "stdout",
     "output_type": "stream",
     "text": [
      "Confusion Matrix:\n",
      "          positive  negative  neutral\n",
      "positive      3002       422     1055\n",
      "negative       989      1377      993\n",
      "neutral        702       349     1257\n",
      "\n",
      "Overall Accuracy: 0.56\n",
      "Positive Accuracy: 0.67\n",
      "Negative Accuracy: 0.41\n",
      "Neutral Accuracy: 0.54\n"
     ]
    }
   ],
   "source": [
    "calculate_sentiment_accuracy(student_feedback, 'Sentiment Label', 'testBlob_label')"
   ]
  },
  {
   "cell_type": "markdown",
   "id": "8dccc417-1ed4-4de3-bdc8-3f4212e1274c",
   "metadata": {},
   "source": [
    "The function `classify_polarity` categorizes the sentiment polarity of a text into 'negative', 'positive', or 'neutral' based on specific thresholds. It classifies a polarity less than -0.1 as 'negative', a polarity greater than 0.1 as 'positive', and considers polarities between -0.1 and 0.1 as 'neutral'. This function is applied to the `polarity_score` column of the `student_feedback` DataFrame to create a new column, `testBlob_label_1`, containing these sentiment classifications."
   ]
  },
  {
   "cell_type": "code",
   "execution_count": 64,
   "id": "3e447440-53b6-4720-8b00-63f1075565cd",
   "metadata": {},
   "outputs": [
    {
     "data": {
      "text/plain": [
       "testBlob_label\n",
       "positive    4693\n",
       "neutral     3305\n",
       "negative    2148\n",
       "Name: count, dtype: int64"
      ]
     },
     "execution_count": 64,
     "metadata": {},
     "output_type": "execute_result"
    }
   ],
   "source": [
    "# Define the conditions and corresponding labels\n",
    "def classify_polarity(polarity):\n",
    "    if polarity < -0.1:\n",
    "        return 'negative'\n",
    "    elif polarity > 0.1:\n",
    "        return 'positive'\n",
    "    else:\n",
    "        return 'neutral'\n",
    "\n",
    "student_feedback['testBlob_label_1'] = student_feedback['polarity_score'].apply(classify_polarity)\n",
    "student_feedback['testBlob_label'].value_counts()"
   ]
  },
  {
   "cell_type": "code",
   "execution_count": 66,
   "id": "0a817565-34d5-441f-9a47-40ff8438b943",
   "metadata": {},
   "outputs": [
    {
     "name": "stdout",
     "output_type": "stream",
     "text": [
      "Confusion Matrix:\n",
      "          positive  negative  neutral\n",
      "positive      2723       274     1482\n",
      "negative       804      1133     1422\n",
      "neutral        582       235     1491\n",
      "\n",
      "Overall Accuracy: 0.53\n",
      "Positive Accuracy: 0.61\n",
      "Negative Accuracy: 0.34\n",
      "Neutral Accuracy: 0.65\n"
     ]
    }
   ],
   "source": [
    "calculate_sentiment_accuracy(student_feedback, 'Sentiment Label', 'testBlob_label_1')"
   ]
  },
  {
   "cell_type": "markdown",
   "id": "67d3767a-5213-40c9-b896-f1570bddd661",
   "metadata": {},
   "source": [
    "### Subjectivity\n",
    "\n",
    "Subjectivity measures how much a text expresses personal opinions, emotions, or biases, rather than objective facts. A score close to 0 indicates objectivity, while a score close to 1 indicates high subjectivity."
   ]
  },
  {
   "cell_type": "code",
   "execution_count": 75,
   "id": "c7d28b42-75ad-440a-ae9c-db15ee4ae083",
   "metadata": {},
   "outputs": [],
   "source": [
    "# Define the bins for subjectivity scores\n",
    "bins = [0, 0.1, 0.2, 0.3, 0.4, 0.5, 0.6, 0.7, 0.8, 0.9, 1.0]\n",
    "labels = ['0-0.1', '0.1-0.2', '0.2-0.3', '0.3-0.4', '0.4-0.5', '0.5-0.6', '0.6-0.7', '0.7-0.8', '0.8-0.9', '0.9-1.0']\n",
    "\n",
    "# Create a new column for the binned subjectivity scores\n",
    "student_feedback['subjectivity_range'] = pd.cut(student_feedback['subjectivity_score'], bins=bins, labels=labels, include_lowest=True)"
   ]
  },
  {
   "cell_type": "code",
   "execution_count": 77,
   "id": "69d70836-7b85-4b36-a233-275c31b83bf9",
   "metadata": {},
   "outputs": [
    {
     "data": {
      "image/png": "[encoded data removed]",
      "text/plain": [
       "<Figure size 1000x600 with 1 Axes>"
      ]
     },
     "metadata": {},
     "output_type": "display_data"
    }
   ],
   "source": [
    "# Count the number of occurrences in each subjectivity range\n",
    "subjectivity_counts = student_feedback['subjectivity_range'].value_counts().sort_index()\n",
    "\n",
    "# Plotting\n",
    "plt.figure(figsize=(10, 6))\n",
    "\n",
    "# Bar graph\n",
    "plt.bar(subjectivity_counts.index, subjectivity_counts.values, color='skyblue', alpha=0.7, label='Bar Graph')\n",
    "\n",
    "# Line graph\n",
    "plt.plot(subjectivity_counts.index, subjectivity_counts.values, color='blue', marker='o', linestyle='-', linewidth=2, label='Line Graph')\n",
    "\n",
    "# Titles and labels\n",
    "plt.title('Subjectivity Range Distribution')\n",
    "plt.xlabel('Subjectivity Range')\n",
    "plt.ylabel('Count')\n",
    "plt.xticks(rotation=45)\n",
    "plt.legend()\n",
    "\n",
    "# Show plot\n",
    "plt.show()"
   ]
  },
  {
   "cell_type": "code",
   "execution_count": null,
   "id": "b2ac06d1-c548-44af-afa8-17b00b7e1827",
   "metadata": {},
   "outputs": [],
   "source": []
  }
 ],
 "metadata": {
  "kernelspec": {
   "display_name": "Python 3 (ipykernel)",
   "language": "python",
   "name": "python3"
  },
  "language_info": {
   "codemirror_mode": {
    "name": "ipython",
    "version": 3
   },
   "file_extension": ".py",
   "mimetype": "text/x-python",
   "name": "python",
   "nbconvert_exporter": "python",
   "pygments_lexer": "ipython3",
   "version": "3.12.4"
  }
 },
 "nbformat": 4,
 "nbformat_minor": 5
}
