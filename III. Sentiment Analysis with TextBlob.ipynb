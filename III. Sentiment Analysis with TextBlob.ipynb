{
 "cells": [
  {
   "cell_type": "markdown",
   "id": "1bf8c992-b0b6-4a98-a29c-be03a167c818",
   "metadata": {},
   "source": [
    "# Sentiment Analysis with TextBlob"
   ]
  },
  {
   "cell_type": "code",
   "execution_count": 32,
   "id": "65c98058-a412-4bc8-bbb1-96b569434737",
   "metadata": {},
   "outputs": [
    {
     "name": "stdout",
     "output_type": "stream",
     "text": [
      "Requirement already satisfied: TextBlob in d:\\assignment projects\\sentiment analysis\\env\\lib\\site-packages (0.18.0.post0)\n",
      "Requirement already satisfied: nltk>=3.8 in d:\\assignment projects\\sentiment analysis\\env\\lib\\site-packages (from TextBlob) (3.8.1)\n",
      "Requirement already satisfied: click in d:\\assignment projects\\sentiment analysis\\env\\lib\\site-packages (from nltk>=3.8->TextBlob) (8.1.7)\n",
      "Requirement already satisfied: joblib in d:\\assignment projects\\sentiment analysis\\env\\lib\\site-packages (from nltk>=3.8->TextBlob) (1.4.2)\n",
      "Requirement already satisfied: regex>=2021.8.3 in d:\\assignment projects\\sentiment analysis\\env\\lib\\site-packages (from nltk>=3.8->TextBlob) (2024.7.24)\n",
      "Requirement already satisfied: tqdm in d:\\assignment projects\\sentiment analysis\\env\\lib\\site-packages (from nltk>=3.8->TextBlob) (4.66.5)\n",
      "Requirement already satisfied: colorama in d:\\assignment projects\\sentiment analysis\\env\\lib\\site-packages (from click->nltk>=3.8->TextBlob) (0.4.6)\n"
     ]
    }
   ],
   "source": [
    "# Installing TextBlob\n",
    "!pip install TextBlob"
   ]
  },
  {
   "cell_type": "code",
   "execution_count": 3,
   "id": "97a85fe5-9d33-46bc-bf38-2c99595db474",
   "metadata": {},
   "outputs": [],
   "source": [
    "# Importing data\n",
    "import pandas as pd\n",
    "import numpy as np\n",
    "import seaborn as sns\n",
    "import matplotlib.pyplot as plt\n",
    "\n",
    "from textblob import TextBlob\n",
    "from sklearn.metrics import confusion_matrix, accuracy_score"
   ]
  },
  {
   "cell_type": "markdown",
   "id": "10d035a4-ec11-4338-9eb0-adf85a1b32a6",
   "metadata": {},
   "source": [
    "## Load Data"
   ]
  },
  {
   "cell_type": "code",
   "execution_count": 4,
   "id": "cbd6a42f-c1c6-455e-92d2-943ac8147a50",
   "metadata": {},
   "outputs": [],
   "source": [
    "# These data are preprocessed data\n",
    "synthetic_train_deep_learining=pd.read_csv('synthetic_train_deep_learining.csv')\n",
    "synthetic_test_deep_learining=pd.read_csv('synthetic_test_deep_learining.csv')"
   ]
  },
  {
   "cell_type": "code",
   "execution_count": 5,
   "id": "85c7c190-4695-4352-806c-9a5db555adaf",
   "metadata": {},
   "outputs": [
    {
     "data": {
      "text/html": [
       "<div>\n",
       "<style scoped>\n",
       "    .dataframe tbody tr th:only-of-type {\n",
       "        vertical-align: middle;\n",
       "    }\n",
       "\n",
       "    .dataframe tbody tr th {\n",
       "        vertical-align: top;\n",
       "    }\n",
       "\n",
       "    .dataframe thead th {\n",
       "        text-align: right;\n",
       "    }\n",
       "</style>\n",
       "<table border=\"1\" class=\"dataframe\">\n",
       "  <thead>\n",
       "    <tr style=\"text-align: right;\">\n",
       "      <th></th>\n",
       "      <th>sentence</th>\n",
       "      <th>sentiment</th>\n",
       "      <th>topic</th>\n",
       "      <th>sentiment_label</th>\n",
       "    </tr>\n",
       "  </thead>\n",
       "  <tbody>\n",
       "    <tr>\n",
       "      <th>0</th>\n",
       "      <td>reporter country great idea</td>\n",
       "      <td>negative</td>\n",
       "      <td>facility</td>\n",
       "      <td>0</td>\n",
       "    </tr>\n",
       "    <tr>\n",
       "      <th>1</th>\n",
       "      <td>university musical artistic facility excellent</td>\n",
       "      <td>neutral</td>\n",
       "      <td>facility</td>\n",
       "      <td>1</td>\n",
       "    </tr>\n",
       "    <tr>\n",
       "      <th>2</th>\n",
       "      <td>classroom designed respond different student need</td>\n",
       "      <td>neutral</td>\n",
       "      <td>curriculum</td>\n",
       "      <td>1</td>\n",
       "    </tr>\n",
       "    <tr>\n",
       "      <th>3</th>\n",
       "      <td>program helped become expert field field</td>\n",
       "      <td>positive</td>\n",
       "      <td>curriculum</td>\n",
       "      <td>2</td>\n",
       "    </tr>\n",
       "    <tr>\n",
       "      <th>4</th>\n",
       "      <td>think program book record student realize many...</td>\n",
       "      <td>neutral</td>\n",
       "      <td>curriculum</td>\n",
       "      <td>1</td>\n",
       "    </tr>\n",
       "  </tbody>\n",
       "</table>\n",
       "</div>"
      ],
      "text/plain": [
       "                                            sentence sentiment       topic  \\\n",
       "0                        reporter country great idea  negative    facility   \n",
       "1     university musical artistic facility excellent   neutral    facility   \n",
       "2  classroom designed respond different student need   neutral  curriculum   \n",
       "3           program helped become expert field field  positive  curriculum   \n",
       "4  think program book record student realize many...   neutral  curriculum   \n",
       "\n",
       "   sentiment_label  \n",
       "0                0  \n",
       "1                1  \n",
       "2                1  \n",
       "3                2  \n",
       "4                1  "
      ]
     },
     "execution_count": 5,
     "metadata": {},
     "output_type": "execute_result"
    }
   ],
   "source": [
    "synthetic_train_deep_learining.head()"
   ]
  },
  {
   "cell_type": "code",
   "execution_count": 6,
   "id": "53609bfa-3acd-4457-b0ac-507ae483ee62",
   "metadata": {},
   "outputs": [
    {
     "data": {
      "text/plain": [
       "(10180, 4)"
      ]
     },
     "execution_count": 6,
     "metadata": {},
     "output_type": "execute_result"
    }
   ],
   "source": [
    "# Combine the DataFrames\n",
    "combined_df = pd.concat([synthetic_train_deep_learining, synthetic_test_deep_learining], ignore_index=True)\n",
    "# Save the combined DataFrame to a new CSV file\n",
    "combined_df.to_csv('combined_synthetic_deep_learning.csv', index=False)\n",
    "combined_df.shape"
   ]
  },
  {
   "cell_type": "code",
   "execution_count": 7,
   "id": "e025467d-e631-495f-9079-24ef89ecf3da",
   "metadata": {},
   "outputs": [
    {
     "name": "stderr",
     "output_type": "stream",
     "text": [
      "C:\\Users\\ashik\\AppData\\Local\\Temp\\ipykernel_13956\\1385649526.py:6: FutureWarning: \n",
      "\n",
      "Passing `palette` without assigning `hue` is deprecated and will be removed in v0.14.0. Assign the `x` variable to `hue` and set `legend=False` for the same effect.\n",
      "\n",
      "  sns.barplot(x=sentiment_counts.index, y=sentiment_counts.values, palette=\"viridis\")\n"
     ]
    },
    {
     "data": {
      "image/png": "[encoded data removed]",
      "text/plain": [
       "<Figure size 800x600 with 1 Axes>"
      ]
     },
     "metadata": {},
     "output_type": "display_data"
    }
   ],
   "source": [
    "# Assuming there's a column named 'sentiment' with values 'positive', 'negative', 'neutral'\n",
    "sentiment_counts = combined_df['sentiment'].value_counts()\n",
    "\n",
    "# Plotting\n",
    "plt.figure(figsize=(8, 6))\n",
    "sns.barplot(x=sentiment_counts.index, y=sentiment_counts.values, palette=\"viridis\")\n",
    "plt.title(\"Sentiment Distribution in Combined Dataset\")\n",
    "plt.xlabel(\"Sentiment\")\n",
    "plt.ylabel(\"Count\")\n",
    "plt.show();"
   ]
  },
  {
   "cell_type": "code",
   "execution_count": 8,
   "id": "e68a4d0c-8457-4b5b-8686-0850e224b276",
   "metadata": {},
   "outputs": [],
   "source": [
    "topic_counts = combined_df['topic'].value_counts()"
   ]
  },
  {
   "cell_type": "code",
   "execution_count": 9,
   "id": "c4100f1b-e8fa-44c5-ab35-e65cc5878a84",
   "metadata": {
    "scrolled": true
   },
   "outputs": [
    {
     "name": "stderr",
     "output_type": "stream",
     "text": [
      "C:\\Users\\ashik\\AppData\\Local\\Temp\\ipykernel_13956\\1712054453.py:3: FutureWarning: \n",
      "\n",
      "Passing `palette` without assigning `hue` is deprecated and will be removed in v0.14.0. Assign the `x` variable to `hue` and set `legend=False` for the same effect.\n",
      "\n",
      "  sns.barplot(x=topic_counts.index, y=topic_counts.values, palette=\"plasma\")\n"
     ]
    },
    {
     "data": {
      "image/png": "[encoded data removed]",
      "text/plain": [
       "<Figure size 1000x500 with 1 Axes>"
      ]
     },
     "metadata": {},
     "output_type": "display_data"
    }
   ],
   "source": [
    "# Plotting Topic Distribution\n",
    "plt.figure(figsize=(10, 5))\n",
    "sns.barplot(x=topic_counts.index, y=topic_counts.values, palette=\"plasma\")\n",
    "plt.title(\"Topic Distribution in Combined Dataset\")\n",
    "plt.xlabel(\"Topic\")\n",
    "plt.ylabel(\"Count\")\n",
    "plt.xticks(rotation=45, ha=\"right\")\n",
    "plt.show()"
   ]
  },
  {
   "cell_type": "markdown",
   "id": "f0f4422e-5e8f-4c19-8ab7-926167e71f5c",
   "metadata": {},
   "source": [
    "## Sentimant Analysis using TextBlob"
   ]
  },
  {
   "cell_type": "code",
   "execution_count": 10,
   "id": "fded50dd-bff6-4a29-9e06-2470f50b5461",
   "metadata": {},
   "outputs": [],
   "source": [
    "def get_sentiment(text):\n",
    "    analysis = TextBlob(text)\n",
    "    polarity = analysis.sentiment.polarity\n",
    "    return polarity"
   ]
  },
  {
   "cell_type": "code",
   "execution_count": 11,
   "id": "0c93d426-eac6-4ca7-aa0e-019ff915fdd6",
   "metadata": {},
   "outputs": [],
   "source": [
    "def get_subjectivity(text):\n",
    "    analysis = TextBlob(text)\n",
    "    subjectivity = analysis.sentiment.subjectivity\n",
    "    return subjectivity"
   ]
  },
  {
   "cell_type": "code",
   "execution_count": 12,
   "id": "7dd9246e-fb55-4643-923a-bcc90aca9d6a",
   "metadata": {},
   "outputs": [
    {
     "data": {
      "text/plain": [
       "pandas.core.series.Series"
      ]
     },
     "execution_count": 12,
     "metadata": {},
     "output_type": "execute_result"
    }
   ],
   "source": [
    "type(combined_df['sentence'])"
   ]
  },
  {
   "cell_type": "code",
   "execution_count": 13,
   "id": "8e6c10ed-e3bf-49d7-a8d0-881e1ce6fbc7",
   "metadata": {},
   "outputs": [
    {
     "data": {
      "text/plain": [
       "'reporter country great idea'"
      ]
     },
     "execution_count": 13,
     "metadata": {},
     "output_type": "execute_result"
    }
   ],
   "source": [
    "combined_df['sentence'][0]"
   ]
  },
  {
   "cell_type": "code",
   "execution_count": 15,
   "id": "1cff20b1-fa6f-439e-ab49-18d426fc20b0",
   "metadata": {},
   "outputs": [
    {
     "name": "stdout",
     "output_type": "stream",
     "text": [
      "Polarity:0.8\n",
      "subjectivity:0.75\n"
     ]
    }
   ],
   "source": [
    "print(f\"Polarity:{get_sentiment(combined_df['sentence'][0])}\")\n",
    "print(f\"subjectivity:{get_subjectivity(combined_df['sentence'][0])}\")"
   ]
  },
  {
   "cell_type": "code",
   "execution_count": 16,
   "id": "62231c5e-307c-4ac6-b15f-980c92573126",
   "metadata": {},
   "outputs": [],
   "source": [
    "# Convert the 'sentence' column to strings\n",
    "combined_df['sentence'] = combined_df['sentence'].astype(str)\n",
    "combined_df['polarity_score']=combined_df['sentence'].apply(get_sentiment)"
   ]
  },
  {
   "cell_type": "code",
   "execution_count": 18,
   "id": "e92754a6-1042-44df-8d7d-e59fb12973b8",
   "metadata": {},
   "outputs": [],
   "source": [
    "combined_df['subjectivity_score'] = combined_df['sentence'].apply(get_subjectivity)"
   ]
  },
  {
   "cell_type": "code",
   "execution_count": 21,
   "id": "fb73324c-ab5b-47ba-8e4b-6bc44572d631",
   "metadata": {},
   "outputs": [
    {
     "data": {
      "text/html": [
       "<div>\n",
       "<style scoped>\n",
       "    .dataframe tbody tr th:only-of-type {\n",
       "        vertical-align: middle;\n",
       "    }\n",
       "\n",
       "    .dataframe tbody tr th {\n",
       "        vertical-align: top;\n",
       "    }\n",
       "\n",
       "    .dataframe thead th {\n",
       "        text-align: right;\n",
       "    }\n",
       "</style>\n",
       "<table border=\"1\" class=\"dataframe\">\n",
       "  <thead>\n",
       "    <tr style=\"text-align: right;\">\n",
       "      <th></th>\n",
       "      <th>sentence</th>\n",
       "      <th>sentiment</th>\n",
       "      <th>topic</th>\n",
       "      <th>sentiment_label</th>\n",
       "      <th>polarity_score</th>\n",
       "      <th>subjectivity_score</th>\n",
       "    </tr>\n",
       "  </thead>\n",
       "  <tbody>\n",
       "    <tr>\n",
       "      <th>0</th>\n",
       "      <td>reporter country great idea</td>\n",
       "      <td>negative</td>\n",
       "      <td>facility</td>\n",
       "      <td>0</td>\n",
       "      <td>0.800000</td>\n",
       "      <td>0.750000</td>\n",
       "    </tr>\n",
       "    <tr>\n",
       "      <th>1</th>\n",
       "      <td>university musical artistic facility excellent</td>\n",
       "      <td>neutral</td>\n",
       "      <td>facility</td>\n",
       "      <td>1</td>\n",
       "      <td>0.444444</td>\n",
       "      <td>0.666667</td>\n",
       "    </tr>\n",
       "    <tr>\n",
       "      <th>2</th>\n",
       "      <td>classroom designed respond different student need</td>\n",
       "      <td>neutral</td>\n",
       "      <td>curriculum</td>\n",
       "      <td>1</td>\n",
       "      <td>0.000000</td>\n",
       "      <td>0.600000</td>\n",
       "    </tr>\n",
       "    <tr>\n",
       "      <th>3</th>\n",
       "      <td>program helped become expert field field</td>\n",
       "      <td>positive</td>\n",
       "      <td>curriculum</td>\n",
       "      <td>2</td>\n",
       "      <td>0.000000</td>\n",
       "      <td>0.000000</td>\n",
       "    </tr>\n",
       "    <tr>\n",
       "      <th>4</th>\n",
       "      <td>think program book record student realize many...</td>\n",
       "      <td>neutral</td>\n",
       "      <td>curriculum</td>\n",
       "      <td>1</td>\n",
       "      <td>0.500000</td>\n",
       "      <td>0.500000</td>\n",
       "    </tr>\n",
       "    <tr>\n",
       "      <th>...</th>\n",
       "      <td>...</td>\n",
       "      <td>...</td>\n",
       "      <td>...</td>\n",
       "      <td>...</td>\n",
       "      <td>...</td>\n",
       "      <td>...</td>\n",
       "    </tr>\n",
       "    <tr>\n",
       "      <th>10175</th>\n",
       "      <td>teaching teacher find much money isbut expensi...</td>\n",
       "      <td>neutral</td>\n",
       "      <td>curriculum</td>\n",
       "      <td>1</td>\n",
       "      <td>0.100000</td>\n",
       "      <td>0.566667</td>\n",
       "    </tr>\n",
       "    <tr>\n",
       "      <th>10176</th>\n",
       "      <td>university computer facility uptodate wellmain...</td>\n",
       "      <td>neutral</td>\n",
       "      <td>facility</td>\n",
       "      <td>1</td>\n",
       "      <td>0.000000</td>\n",
       "      <td>0.000000</td>\n",
       "    </tr>\n",
       "    <tr>\n",
       "      <th>10177</th>\n",
       "      <td>spiritualization form appreciation interpretat...</td>\n",
       "      <td>negative</td>\n",
       "      <td>curriculum</td>\n",
       "      <td>0</td>\n",
       "      <td>-0.500000</td>\n",
       "      <td>1.000000</td>\n",
       "    </tr>\n",
       "    <tr>\n",
       "      <th>10178</th>\n",
       "      <td>detailed quite bit detailed analysis</td>\n",
       "      <td>positive</td>\n",
       "      <td>others</td>\n",
       "      <td>2</td>\n",
       "      <td>0.400000</td>\n",
       "      <td>0.750000</td>\n",
       "    </tr>\n",
       "    <tr>\n",
       "      <th>10179</th>\n",
       "      <td>guy always working creating fake book making n...</td>\n",
       "      <td>positive</td>\n",
       "      <td>others</td>\n",
       "      <td>2</td>\n",
       "      <td>-0.181818</td>\n",
       "      <td>0.727273</td>\n",
       "    </tr>\n",
       "  </tbody>\n",
       "</table>\n",
       "<p>10180 rows × 6 columns</p>\n",
       "</div>"
      ],
      "text/plain": [
       "                                                sentence sentiment  \\\n",
       "0                            reporter country great idea  negative   \n",
       "1         university musical artistic facility excellent   neutral   \n",
       "2      classroom designed respond different student need   neutral   \n",
       "3               program helped become expert field field  positive   \n",
       "4      think program book record student realize many...   neutral   \n",
       "...                                                  ...       ...   \n",
       "10175  teaching teacher find much money isbut expensi...   neutral   \n",
       "10176  university computer facility uptodate wellmain...   neutral   \n",
       "10177  spiritualization form appreciation interpretat...  negative   \n",
       "10178               detailed quite bit detailed analysis  positive   \n",
       "10179  guy always working creating fake book making n...  positive   \n",
       "\n",
       "            topic  sentiment_label  polarity_score  subjectivity_score  \n",
       "0        facility                0        0.800000            0.750000  \n",
       "1        facility                1        0.444444            0.666667  \n",
       "2      curriculum                1        0.000000            0.600000  \n",
       "3      curriculum                2        0.000000            0.000000  \n",
       "4      curriculum                1        0.500000            0.500000  \n",
       "...           ...              ...             ...                 ...  \n",
       "10175  curriculum                1        0.100000            0.566667  \n",
       "10176    facility                1        0.000000            0.000000  \n",
       "10177  curriculum                0       -0.500000            1.000000  \n",
       "10178      others                2        0.400000            0.750000  \n",
       "10179      others                2       -0.181818            0.727273  \n",
       "\n",
       "[10180 rows x 6 columns]"
      ]
     },
     "execution_count": 21,
     "metadata": {},
     "output_type": "execute_result"
    }
   ],
   "source": [
    "combined_df"
   ]
  },
  {
   "cell_type": "code",
   "execution_count": 22,
   "id": "21cb9352-58e4-4aef-8a3f-d7e910b7360a",
   "metadata": {},
   "outputs": [
    {
     "data": {
      "text/plain": [
       "polarity_score\n",
       " 0.000000    4106\n",
       " 0.200000     455\n",
       " 0.500000     436\n",
       " 0.400000     296\n",
       "-0.500000     251\n",
       "             ... \n",
       "-0.086667       1\n",
       "-0.116667       1\n",
       "-0.016667       1\n",
       "-0.255556       1\n",
       "-0.181818       1\n",
       "Name: count, Length: 663, dtype: int64"
      ]
     },
     "execution_count": 22,
     "metadata": {},
     "output_type": "execute_result"
    }
   ],
   "source": [
    "combined_df['polarity_score'].value_counts()"
   ]
  },
  {
   "cell_type": "markdown",
   "id": "5fe3ca01-0274-4270-bacb-b91912ba3b93",
   "metadata": {},
   "source": [
    "## Analysis the Results"
   ]
  },
  {
   "cell_type": "markdown",
   "id": "0f3a2df5-97ce-495b-b4c5-e15fe99aef20",
   "metadata": {},
   "source": [
    "### Sentimant/Polarity\n",
    "\n",
    "Polarity measures the sentiment of a text, indicating whether it is positive, negative, or neutral. A score close to 1 suggests positive sentiment, a score close to -1 indicates negative sentiment, and a score around 0 reflects neutrality."
   ]
  },
  {
   "cell_type": "code",
   "execution_count": 23,
   "id": "eee2fd32-8c62-4ba0-bd2c-43701ab3c339",
   "metadata": {},
   "outputs": [
    {
     "data": {
      "image/png": "[encoded data removed]",
      "text/plain": [
       "<Figure size 1000x600 with 1 Axes>"
      ]
     },
     "metadata": {},
     "output_type": "display_data"
    }
   ],
   "source": [
    "# Categorize polarity scores\n",
    "polarity_zero = combined_df[combined_df['polarity_score'] == 0]\n",
    "polarity_positive = combined_df[combined_df['polarity_score'] > 0]\n",
    "polarity_negative = combined_df[combined_df['polarity_score'] < 0]\n",
    "\n",
    "# Plot the histogram\n",
    "plt.figure(figsize=(10, 6))\n",
    "\n",
    "# Histogram for polarity = 0\n",
    "plt.hist(polarity_zero['polarity_score'], bins=1, alpha=0.7, label='Polarity = 0', color='grey')\n",
    "\n",
    "# Histogram for polarity > 0\n",
    "plt.hist(polarity_positive['polarity_score'], bins=20, alpha=0.7, label='Polarity > 0', color='red')\n",
    "\n",
    "# Histogram for polarity < 0\n",
    "plt.hist(polarity_negative['polarity_score'], bins=20, alpha=0.7, label='Polarity < 0', color='blue')\n",
    "\n",
    "# Adding labels and title\n",
    "plt.xlabel('Polarity Score')\n",
    "plt.ylabel('Frequency')\n",
    "plt.title('Histogram of Polarity Scores')\n",
    "plt.legend()\n",
    "\n",
    "# Show the plot\n",
    "plt.show()"
   ]
  },
  {
   "cell_type": "code",
   "execution_count": 24,
   "id": "a6260aa3-6d6a-4740-9f71-7834a8c20c7c",
   "metadata": {},
   "outputs": [
    {
     "data": {
      "text/plain": [
       "sentiment\n",
       "negative    3397\n",
       "neutral     3394\n",
       "positive    3389\n",
       "Name: count, dtype: int64"
      ]
     },
     "execution_count": 24,
     "metadata": {},
     "output_type": "execute_result"
    }
   ],
   "source": [
    "combined_df.sentiment.value_counts()"
   ]
  },
  {
   "cell_type": "markdown",
   "id": "47054389-ac1c-4b3b-be2c-a666bff94212",
   "metadata": {},
   "source": [
    "The function `classify_polarity` is designed to categorize the sentiment polarity of a text into three labels: 'negative', 'positive', or 'neutral'. It assigns 'negative' to polarities less than 0, 'positive' to polarities greater than 0, and 'neutral' to a polarity exactly equal to 0. This function is applied to the `polarity_score` column of the `student_feedback` DataFrame to create a new column, `testBlob_label`, which contains the sentiment classification for each entry."
   ]
  },
  {
   "cell_type": "code",
   "execution_count": 28,
   "id": "90efa78d-0758-4659-8715-12103151de01",
   "metadata": {},
   "outputs": [],
   "source": [
    "# Define the conditions and corresponding labels\n",
    "def classify_polarity(polarity):\n",
    "    if polarity < 0:\n",
    "        return 'negative'\n",
    "    elif polarity > 0:\n",
    "        return 'positive'\n",
    "    else:\n",
    "        return 'neutral'"
   ]
  },
  {
   "cell_type": "code",
   "execution_count": 29,
   "id": "c0a596d2-7706-4b10-bbe7-9e69d7b5d88a",
   "metadata": {
    "scrolled": true
   },
   "outputs": [],
   "source": [
    "# Apply the function to create the 'testBlob_label' column\n",
    "combined_df['testBlob_label'] = combined_df['polarity_score'].apply(classify_polarity)"
   ]
  },
  {
   "cell_type": "code",
   "execution_count": 30,
   "id": "8a91f507-1717-40bd-9820-398db3bfee25",
   "metadata": {},
   "outputs": [
    {
     "data": {
      "text/plain": [
       "testBlob_label\n",
       "positive    4586\n",
       "neutral     4106\n",
       "negative    1488\n",
       "Name: count, dtype: int64"
      ]
     },
     "execution_count": 30,
     "metadata": {},
     "output_type": "execute_result"
    }
   ],
   "source": [
    "combined_df['testBlob_label'].value_counts()"
   ]
  },
  {
   "cell_type": "code",
   "execution_count": 31,
   "id": "d919721f-d982-4182-86ff-f3b3e7166b22",
   "metadata": {},
   "outputs": [],
   "source": [
    "def calculate_sentiment_accuracy(df, true_label_col, predicted_label_col):\n",
    "    \"\"\"\n",
    "    Calculate and print the overall accuracy and accuracy for each sentiment category.\n",
    "\n",
    "    Parameters:\n",
    "    - df (pd.DataFrame): The DataFrame containing the true and predicted labels.\n",
    "    - true_label_col (str): The column name for the true sentiment labels.\n",
    "    - predicted_label_col (str): The column name for the predicted sentiment labels.\n",
    "    \"\"\"\n",
    "    # Calculate confusion matrix\n",
    "    conf_matrix = confusion_matrix(df[true_label_col], df[predicted_label_col], labels=['positive', 'negative', 'neutral'])\n",
    "    \n",
    "    # Create a DataFrame to better visualize the confusion matrix\n",
    "    conf_matrix_df = pd.DataFrame(conf_matrix, index=['positive', 'negative', 'neutral'], columns=['positive', 'negative', 'neutral'])\n",
    "\n",
    "    # Calculate overall accuracy\n",
    "    overall_accuracy = accuracy_score(df[true_label_col], df[predicted_label_col])\n",
    "\n",
    "    # Calculate accuracy for each sentiment category\n",
    "    positive_accuracy = conf_matrix_df.loc['positive', 'positive'] / conf_matrix_df.loc['positive'].sum()\n",
    "    negative_accuracy = conf_matrix_df.loc['negative', 'negative'] / conf_matrix_df.loc['negative'].sum()\n",
    "    neutral_accuracy = conf_matrix_df.loc['neutral', 'neutral'] / conf_matrix_df.loc['neutral'].sum()\n",
    "\n",
    "    # Print the results\n",
    "    print(\"Confusion Matrix:\")\n",
    "    print(conf_matrix_df)\n",
    "    print(\"\\nOverall Accuracy: {:.2f}\".format(overall_accuracy))\n",
    "    print(\"Positive Accuracy: {:.2f}\".format(positive_accuracy))\n",
    "    print(\"Negative Accuracy: {:.2f}\".format(negative_accuracy))\n",
    "    print(\"Neutral Accuracy: {:.2f}\".format(neutral_accuracy))"
   ]
  },
  {
   "cell_type": "code",
   "execution_count": 32,
   "id": "7d75508c-aa4b-4489-a832-cbdf58f0d951",
   "metadata": {},
   "outputs": [
    {
     "name": "stdout",
     "output_type": "stream",
     "text": [
      "Confusion Matrix:\n",
      "          positive  negative  neutral\n",
      "positive      1858       483     1048\n",
      "negative      1147       572     1678\n",
      "neutral       1581       433     1380\n",
      "\n",
      "Overall Accuracy: 0.37\n",
      "Positive Accuracy: 0.55\n",
      "Negative Accuracy: 0.17\n",
      "Neutral Accuracy: 0.41\n"
     ]
    }
   ],
   "source": [
    "calculate_sentiment_accuracy(combined_df, 'sentiment', 'testBlob_label')"
   ]
  },
  {
   "cell_type": "code",
   "execution_count": 34,
   "id": "74783470-1aaf-4298-a339-635abf7383ff",
   "metadata": {},
   "outputs": [
    {
     "data": {
      "text/plain": [
       "testBlob_label\n",
       "positive    4586\n",
       "neutral     4106\n",
       "negative    1488\n",
       "Name: count, dtype: int64"
      ]
     },
     "execution_count": 34,
     "metadata": {},
     "output_type": "execute_result"
    }
   ],
   "source": [
    "# Define the conditions and corresponding labels\n",
    "def classify_polarity(polarity):\n",
    "    if polarity < -0.1:\n",
    "        return 'negative'\n",
    "    elif polarity > 0.1:\n",
    "        return 'positive'\n",
    "    else:\n",
    "        return 'neutral'\n",
    "\n",
    "combined_df['testBlob_label_1'] = combined_df['polarity_score'].apply(classify_polarity)\n",
    "combined_df['testBlob_label'].value_counts()"
   ]
  },
  {
   "cell_type": "markdown",
   "id": "5bf01492-d197-4573-87f1-a5cef9c59943",
   "metadata": {},
   "source": [
    "### Subjectivity\n",
    "Subjectivity measures how much a text expresses personal opinions, emotions, or biases, rather than objective facts. A score close to 0 indicates objectivity, while a score close to 1 indicates high subjectivity."
   ]
  },
  {
   "cell_type": "code",
   "execution_count": 35,
   "id": "30397685-95ff-4468-b9ad-2e23c2dfe563",
   "metadata": {},
   "outputs": [],
   "source": [
    "# Define the bins for subjectivity scores\n",
    "bins = [0, 0.1, 0.2, 0.3, 0.4, 0.5, 0.6, 0.7, 0.8, 0.9, 1.0]\n",
    "labels = ['0-0.1', '0.1-0.2', '0.2-0.3', '0.3-0.4', '0.4-0.5', '0.5-0.6', '0.6-0.7', '0.7-0.8', '0.8-0.9', '0.9-1.0']\n",
    "\n",
    "# Create a new column for the binned subjectivity scores\n",
    "combined_df['subjectivity_range'] = pd.cut(combined_df['subjectivity_score'], bins=bins, labels=labels, include_lowest=True)"
   ]
  },
  {
   "cell_type": "code",
   "execution_count": 36,
   "id": "fe25efb3-e442-4082-b020-d4de9c79d870",
   "metadata": {},
   "outputs": [
    {
     "data": {
      "image/png": "[encoded data removed]",
      "text/plain": [
       "<Figure size 1000x600 with 1 Axes>"
      ]
     },
     "metadata": {},
     "output_type": "display_data"
    }
   ],
   "source": [
    "# Count the number of occurrences in each subjectivity range\n",
    "subjectivity_counts = combined_df['subjectivity_range'].value_counts().sort_index()\n",
    "\n",
    "# Plotting\n",
    "plt.figure(figsize=(10, 6))\n",
    "\n",
    "# Bar graph\n",
    "plt.bar(subjectivity_counts.index, subjectivity_counts.values, color='skyblue', alpha=0.7, label='Bar Graph')\n",
    "\n",
    "# Line graph\n",
    "plt.plot(subjectivity_counts.index, subjectivity_counts.values, color='blue', marker='o', linestyle='-', linewidth=2, label='Line Graph')\n",
    "\n",
    "# Titles and labels\n",
    "plt.title('Subjectivity Range Distribution')\n",
    "plt.xlabel('Subjectivity Range')\n",
    "plt.ylabel('Count')\n",
    "plt.xticks(rotation=45)\n",
    "plt.legend()\n",
    "\n",
    "# Show plot\n",
    "plt.show()"
   ]
  },
  {
   "cell_type": "code",
   "execution_count": null,
   "id": "b468c577-4842-42ed-8691-8eb81ce195d6",
   "metadata": {},
   "outputs": [],
   "source": []
  }
 ],
 "metadata": {
  "kernelspec": {
   "display_name": "Python 3 (ipykernel)",
   "language": "python",
   "name": "python3"
  },
  "language_info": {
   "codemirror_mode": {
    "name": "ipython",
    "version": 3
   },
   "file_extension": ".py",
   "mimetype": "text/x-python",
   "name": "python",
   "nbconvert_exporter": "python",
   "pygments_lexer": "ipython3",
   "version": "3.12.4"
  }
 },
 "nbformat": 4,
 "nbformat_minor": 5
}
